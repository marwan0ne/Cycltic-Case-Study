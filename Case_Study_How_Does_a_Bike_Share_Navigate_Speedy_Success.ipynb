{
 "cells": [
  {
   "cell_type": "markdown",
   "id": "4bdb4c9a",
   "metadata": {},
   "source": [
    "# About Company\n",
    "In 2016, Cyclistic launched a successful bike-share offering. Since then, the program has grown to a fleet of **5,824** bicycles that\n",
    "are geotracked and locked into a network of **692** stations across Chicago. The bikes can be unlocked from one station and\n",
    "returned to any other station in the system anytime.<br />\n",
    "  **Cyclistic** classifies it users into two categories:<br />\n",
    "  1. **Casual Riders**: Customer who purchase single ride or full-day passes.<br />\n",
    "  2. **Members**: Customer who purchase **annual membership**. <br />"
   ]
  },
  {
   "cell_type": "markdown",
   "id": "fdfc215b",
   "metadata": {},
   "source": [
    "# Stakholders in the Scenario   \n",
    "**Lily Moreno**: The director of marketing and your manager. Moreno is responsible for the development of campaigns\n",
    "and initiatives to promote the bike-share program. These may include email, social media, and other channels.<br/>\n",
    "**Cyclistic marketing analytics team**: A team of data analysts who are responsible for collecting, analyzing, and\n",
    "reporting data that helps guide Cyclistic marketing strategy. You joined this team six months ago and have been busy\n",
    "learning about Cyclistic’s mission and business goals — as well as how you, as a junior data analyst, can help Cyclistic\n",
    "achieve them.<br/>\n",
    "**Cyclistic executive team**: The notoriously detail-oriented executive team will decide whether to approve the\n",
    "recommended marketing program.<br/>"
   ]
  },
  {
   "cell_type": "markdown",
   "id": "91d79742",
   "metadata": {},
   "source": [
    "# Busnies task\n",
    "**Three questions will guide the future marketing program:**<br/>\n",
    "1. How do annual members and casual riders use Cyclistic bikes differently?<br/>\n",
    "2. Why would casual riders buy Cyclistic annual memberships? <br/>\n",
    "3. How can Cyclistic use digital media to influence casual riders to become members? <br/>\n",
    "**this analysis aims to answer the first question**:How do annual members and casual riders use Cyclistic bikes\n",
    "differently? <br/>\n",
    "\n",
    "# Loading packages."
   ]
  },
  {
   "cell_type": "code",
   "execution_count": null,
   "id": "7a6dfee8",
   "metadata": {},
   "outputs": [],
   "source": [
    "library(tidyverse)\n",
    "library(lubridate)\n",
    "library(tidyr)\n",
    "library(dplyr)"
   ]
  },
  {
   "cell_type": "markdown",
   "id": "65944956",
   "metadata": {},
   "source": [
    "# Importing the dataset<br/>\n",
    "For this project I will use Cyclistic historical data for 2022 trips\n",
    "[data](https://divvy-tripdata.s3.amazonaws.com/index.html)under this [license](https://www.divvybikes.com/data-license-agreement) "
   ]
  },
  {
   "cell_type": "code",
   "execution_count": null,
   "id": "ebe2700e",
   "metadata": {},
   "outputs": [],
   "source": [
    "tripdata_202201 <- read_csv(\"202201-divvy-tripdata.csv\")\n",
    "tripdata_202202 <- read_csv(\"202202-divvy-tripdata.csv\")\n",
    "tripdata_202203 <- read_csv(\"202203-divvy-tripdata.csv\")\n",
    "tripdata_202204 <- read_csv(\"202204-divvy-tripdata.csv\")\n",
    "tripdata_202205 <- read_csv(\"202205-divvy-tripdata.csv\")\n",
    "tripdata_202206 <- read_csv(\"202206-divvy-tripdata.csv\")\n",
    "tripdata_202207 <- read_csv(\"202207-divvy-tripdata.csv\")\n",
    "tripdata_202208 <- read_csv(\"202208-divvy-tripdata.csv\")\n",
    "tripdata_202209 <- read_csv(\"202209-divvy-tripdata.csv\")\n",
    "tripdata_202210 <- read_csv(\"202210-divvy-tripdata.csv\")\n",
    "tripdata_202211 <- read_csv(\"202211-divvy-tripdata.csv\")\n",
    "tripdata_202212 <- read_csv(\"202212-divvy-tripdata.csv\")"
   ]
  },
  {
   "cell_type": "markdown",
   "id": "c46d110d",
   "metadata": {},
   "source": [
    "# Combining all the dataframes in one dataframe"
   ]
  },
  {
   "cell_type": "code",
   "execution_count": null,
   "id": "c3db834c",
   "metadata": {},
   "outputs": [],
   "source": [
    "total_tripdata_2022 <- rbind(tripdata_202201,tripdata_202202,\n",
    "           tripdata_202203,tripdata_202204,\n",
    "           tripdata_202205,tripdata_202206,\n",
    "           tripdata_202207,tripdata_202208,\n",
    "           tripdata_202209,tripdata_202210,\n",
    "           tripdata_202211,tripdata_202212)"
   ]
  },
  {
   "cell_type": "markdown",
   "id": "fea6b21c",
   "metadata": {},
   "source": [
    "# Showing the data"
   ]
  },
  {
   "cell_type": "code",
   "execution_count": null,
   "id": "1d42aa3d",
   "metadata": {},
   "outputs": [],
   "source": [
    "summary(total_tripdata_2022)"
   ]
  },
  {
   "cell_type": "markdown",
   "id": "2c49e795",
   "metadata": {},
   "source": [
    "# Data prepration\n",
    "## Showing the data limtitaion"
   ]
  },
  {
   "cell_type": "code",
   "execution_count": null,
   "id": "331bcd10",
   "metadata": {},
   "outputs": [],
   "source": [
    "nrow(total_tripdata_2022)\n",
    "sum(is.na(total_tripdata_2022))"
   ]
  },
  {
   "cell_type": "markdown",
   "id": "e9c3f729",
   "metadata": {},
   "source": [
    "There is a lot of missing values So I'm going to explore the data sets columns to find which columns has those missing values after some digging I have those columns have the missing values."
   ]
  },
  {
   "cell_type": "code",
   "execution_count": null,
   "id": "c97d34c1",
   "metadata": {},
   "outputs": [],
   "source": [
    "sum(is.na(total_tripdata_2022$start_station_name))\n",
    "sum(is.na(total_tripdata_2022$start_station_id))\n",
    "sum(is.na(total_tripdata_2022$end_station_name))\n",
    "sum(is.na(total_tripdata_2022$end_station_id))\n",
    "sum(is.na(total_tripdata_2022$end_lat))\n",
    "sum(is.na(total_tripdata_2022$end_lng))"
   ]
  },
  {
   "cell_type": "markdown",
   "id": "ef914baa",
   "metadata": {},
   "source": [
    "# Data Cleaning\n",
    "I decided to exclude the rows with missing values from my analysis"
   ]
  },
  {
   "cell_type": "code",
   "execution_count": null,
   "id": "59039c22",
   "metadata": {},
   "outputs": [],
   "source": [
    "total_tripdata_2022 <- drop_na(total_tripdata_2022)\n",
    "nrow(total_tripdata_2022)"
   ]
  },
  {
   "cell_type": "markdown",
   "id": "e4478d03",
   "metadata": {},
   "source": [
    "Also I have decided to add more columns to my data frame to help me in my analysis and those columns are Ride_length, month, day and hour."
   ]
  },
  {
   "cell_type": "code",
   "execution_count": null,
   "id": "785c4195",
   "metadata": {},
   "outputs": [],
   "source": [
    "total_tripdata_2022$ride_length <-difftime(total_tripdata_2022$ended_at,total_tripdata_2022$started_at)\n",
    "total_tripdata_2022$month <-format(as.Date(total_tripdata_2022$started_at),\"%b\")\n",
    "total_tripdata_2022$day_of_week <- weekdays(total_tripdata_2022$started_at)\n",
    "total_tripdata_2022$hours <-format(as.POSIXct(total_tripdata_2022$started_at),format= \"%H\")"
   ]
  },
  {
   "cell_type": "markdown",
   "id": "e4e68ad4",
   "metadata": {},
   "source": [
    "Putting the day of the week and the month in the right order"
   ]
  },
  {
   "cell_type": "code",
   "execution_count": null,
   "id": "631ace0c",
   "metadata": {},
   "outputs": [],
   "source": [
    "total_tripdata_2022$day_of_week <- ordered(total_tripdata_2022$day_of_week,\n",
    "                                           levels=c(\"Sunday\", \"Monday\", \"Tuesday\", \n",
    "                                                     \"Wednesday\", \"Thursday\", \"Friday\", \"Saturday\"))\n",
    "total_tripdata_2022$month <- ordered(total_tripdata_2022$month,\n",
    "                                           levels=c(\"Jan\",\"Feb\",\"Mar\",\n",
    "                                                     \"Apr\",\"May\",\"Jun\",\n",
    "                                                     \"Jul\",\"Aug\",\"Sep\",\n",
    "                                                     \"Oct\",\"Nov\",\"Dec\"))"
   ]
  },
  {
   "cell_type": "markdown",
   "id": "83d9d0d7",
   "metadata": {},
   "source": [
    "The dataframe includes a few hundred entries when bikes were taken out of docks and checked for quality by Divvy or ride_length was negative\n",
    "So we will going toe create a new dataframe that exclude those values."
   ]
  },
  {
   "cell_type": "code",
   "execution_count": null,
   "id": "cb2f6b7e",
   "metadata": {},
   "outputs": [],
   "source": [
    "tripdata_2022 <-  total_tripdata_2022[!(total_tripdata_2022$start_station_name == \"HQ QR\" | total_tripdata_2022$ride_length<0),]"
   ]
  },
  {
   "cell_type": "markdown",
   "id": "f985faf2",
   "metadata": {},
   "source": [
    "# Analysis\n",
    "**Descriptive analysis on the ride length**"
   ]
  },
  {
   "cell_type": "code",
   "execution_count": null,
   "id": "30dae4f1",
   "metadata": {},
   "outputs": [],
   "source": [
    "mean(tripdata_2022$ride_length) # the mean of the ride\n",
    "median(tripdata_2022$ride_length) # the median of the rides\n",
    "max(tripdata_2022$ride_length) # maximum ride length\n",
    "min(tripdata_2022$ride_length) # minimum ride length"
   ]
  },
  {
   "cell_type": "markdown",
   "id": "40d2b672",
   "metadata": {},
   "source": [
    "**Compare members and casual users**"
   ]
  },
  {
   "cell_type": "code",
   "execution_count": null,
   "id": "0b635b11",
   "metadata": {},
   "outputs": [],
   "source": [
    "aggregate(tripdata_2022$ride_length ~ tripdata_2022$member_casual, FUN = mean)\n",
    "aggregate(tripdata_2022$ride_length ~ tripdata_2022$member_casual, FUN = median)\n",
    "aggregate(tripdata_2022$ride_length ~ tripdata_2022$member_casual, FUN = max)\n",
    "aggregate(tripdata_2022$ride_length ~ tripdata_2022$member_casual, FUN = min)"
   ]
  },
  {
   "cell_type": "markdown",
   "id": "4387d5f3",
   "metadata": {},
   "source": [
    "<br/>\n",
    "From the above calculations I found that the casual rides spend in average 51.8% more time than annual members.\n",
    "<br/>\n",
    "\n",
    "**See the average ride time by each day for members vs casual users**"
   ]
  },
  {
   "cell_type": "code",
   "execution_count": null,
   "id": "0f4ca4d9",
   "metadata": {},
   "outputs": [],
   "source": [
    "aggregate(tripdata_2022$ride_length ~ tripdata_2022$member_casual + tripdata_2022$day_of_week, FUN = mean)"
   ]
  },
  {
   "cell_type": "markdown",
   "id": "bd7da1d1",
   "metadata": {},
   "source": [
    "**Analyze ridership data by type and weekday**"
   ]
  },
  {
   "cell_type": "code",
   "execution_count": null,
   "id": "34aa76ff",
   "metadata": {},
   "outputs": [],
   "source": [
    "tripdata_2022 %>% \n",
    "  mutate(weekday = wday(started_at,label = TRUE)) %>% \n",
    "    group_by(member_casual,weekday) %>% \n",
    "  summarize(number_of_rides = n(),\n",
    "            average_duration = mean(ride_length)) %>% \n",
    "  arrange(member_casual, weekday)"
   ]
  },
  {
   "cell_type": "markdown",
   "id": "a8390f2f",
   "metadata": {},
   "source": [
    "**Showing the maximum ride length at every hour in the day for each user category**"
   ]
  },
  {
   "cell_type": "code",
   "execution_count": null,
   "id": "15a1a9e9",
   "metadata": {},
   "outputs": [],
   "source": [
    "aggregate(tripdata_2022$ride_length ~ tripdata_2022$member_casual + tripdata_2022$hours, FUN = max)"
   ]
  },
  {
   "cell_type": "markdown",
   "id": "997c7b27",
   "metadata": {},
   "source": [
    "# Visualizations\n",
    "**Visualize the relation between customers type and readable type using ggplot**\n",
    "**to see each customer bike preferences and also to know which ride type is used more often** "
   ]
  },
  {
   "cell_type": "code",
   "execution_count": null,
   "id": "82f32300",
   "metadata": {},
   "outputs": [],
   "source": [
    "tripdata_2022 %>% \n",
    "  group_by(member_casual,rideable_type) %>% \n",
    "  summarize(number_of_rides=n()) %>% \n",
    "  ggplot(aes(x=member_casual,y=number_of_rides,fill=rideable_type))+\n",
    "  geom_col(position = \"dodge\")+ggtitle(\"Member type vs rideable_type\")"
   ]
  },
  {
   "cell_type": "markdown",
   "id": "d07f669f",
   "metadata": {},
   "source": [
    "<br/>**Visualizing the number of rides each customer type made every month**"
   ]
  },
  {
   "cell_type": "code",
   "execution_count": null,
   "id": "22a077e2",
   "metadata": {},
   "outputs": [],
   "source": [
    "tripdata_2022 %>% \n",
    "  group_by(member_casual, month) %>% \n",
    "  summarise(number_of_rides = n()\n",
    "            ,average_duration = mean(ride_length)) %>% \n",
    "  arrange(member_casual, month)  %>% \n",
    "  ggplot(aes(x = month, y = number_of_rides, fill = member_casual)) +\n",
    "  geom_col(position = \"dodge\") +ggtitle(\"The number of rides by rider type during each month\")"
   ]
  },
  {
   "cell_type": "markdown",
   "id": "a32778a3",
   "metadata": {},
   "source": [
    "<br/>**Visualizing the number of rides each customer type made every day**"
   ]
  },
  {
   "cell_type": "code",
   "execution_count": null,
   "id": "1512fc0e",
   "metadata": {},
   "outputs": [],
   "source": [
    "tripdata_2022 %>% \n",
    "  mutate(weekday = wday(started_at, label = TRUE)) %>% \n",
    "  group_by(member_casual, weekday) %>% \n",
    "  summarise(number_of_rides = n()\n",
    "            ,average_duration = mean(ride_length)) %>% \n",
    "  arrange(member_casual, weekday)  %>% \n",
    "  ggplot(aes(x = weekday, y = number_of_rides, fill = member_casual)) +\n",
    "  geom_col(position = \"dodge\")+ggtitle(\"The number of rides by rider type during each day\")"
   ]
  },
  {
   "cell_type": "markdown",
   "id": "d82cbef9",
   "metadata": {},
   "source": [
    "<br/>**Visualizing the number of rides each customer type made at every hour of the day**"
   ]
  },
  {
   "cell_type": "code",
   "execution_count": null,
   "id": "714d9378",
   "metadata": {},
   "outputs": [],
   "source": [
    "tripdata_2022 %>%   \n",
    "  group_by(member_casual,hours) %>% \n",
    "  summarise(number_of_rides = n(),\n",
    "            average_duration = mean(ride_length)) %>% \n",
    "  ggplot(aes(x = hours, y = number_of_rides, fill = member_casual))+\n",
    "  geom_col(position = \"dodge\")+ggtitle(\"The number of rides by rider type during the day\")"
   ]
  },
  {
   "cell_type": "markdown",
   "id": "63316b51",
   "metadata": {},
   "source": [
    "<br/>**Visualizing the average ride length of the customers types each month,day and hour**"
   ]
  },
  {
   "cell_type": "code",
   "execution_count": null,
   "id": "1f199bf6",
   "metadata": {},
   "outputs": [],
   "source": [
    "tripdata_2022 %>% \n",
    "  group_by(member_casual, month) %>% \n",
    "  summarise(number_of_rides = n()\n",
    "            ,average_duration = mean(ride_length)) %>% \n",
    "  arrange(member_casual, month)  %>% \n",
    "  ggplot(aes(x = month, y = average_duration, fill = member_casual)) +\n",
    "  geom_col(position = \"dodge\") +ggtitle(\"Average rides length by rider type during each month\")"
   ]
  },
  {
   "cell_type": "code",
   "execution_count": null,
   "id": "781f4359",
   "metadata": {},
   "outputs": [],
   "source": [
    "tripdata_2022 %>% \n",
    "  group_by(member_casual, day_of_week) %>% \n",
    "  summarise(number_of_rides = n()\n",
    "            ,average_duration = mean(ride_length)) %>% \n",
    "  arrange(member_casual, day_of_week)  %>% \n",
    "  ggplot(aes(x = day_of_week, y = average_duration, fill = member_casual)) +\n",
    "  geom_col(position = \"dodge\") +ggtitle(\"Average rides length by rider type during each day\")"
   ]
  },
  {
   "cell_type": "code",
   "execution_count": null,
   "id": "91aee888",
   "metadata": {},
   "outputs": [],
   "source": [
    "tripdata_2022 %>%   \n",
    "  group_by(member_casual,hours) %>% \n",
    "  summarise(number_of_rides = n(),\n",
    "            average_duration = mean(ride_length)) %>% \n",
    "  ggplot(aes(x = hours, y = average_duration, fill = member_casual))+\n",
    "  geom_col(position = \"dodge\")+ggtitle(\"Average rides length by rider type during the day\")"
   ]
  },
  {
   "cell_type": "markdown",
   "id": "9b0934e0",
   "metadata": {},
   "source": [
    "# Conclusion \n",
    "1. The **docked_bikes** is used only by the Casual users. <br/>\n",
    "2. The number of trips from both users increases at Chicago warm season from (**May** to **September**) <br/>\n",
    "3. The number of trips made by the annual members is more on weekdays while the casual users\n",
    "made more trips on weekends.<br/>\n",
    "4. Casual riders spend 51.8% more time each ride than annual members.<br/>\n",
    "5. The rush hours of the riders during the morning is from 7 am to 9 am and peaks at 8 am.\n",
    "<br/>\n",
    "6. The rush hours of the riders during the noon is from 5 pm to 7pm and peaks at 6pm.<br/>"
   ]
  },
  {
   "cell_type": "markdown",
   "id": "7c54cb22",
   "metadata": {},
   "source": [
    "# Recommendations\n",
    "1. The Chicago warm season should be the focus of  the marketing strategy, since it's the high season for the bike riders <br/>\n",
    "2. Put more ads in the docked_bikes area for the casual members.<br/>\n",
    "3. Highlight in the marketing campaign that the casual users would spend 51.8% less time at each ride if they subscribed to the annual program.<br/>\n",
    "4. Send motivational messages at the rush hours to the annual members to encourage them to ride the bike.<br/>\n",
    "5. We may build reward system for the riders it should be based on rides streak if the rider used the bike everyday for some period of time like a month he will get a discount on the next annual subscription. That would encourage the annual members to use our service more regularly.<br/>"
   ]
  },
  {
   "cell_type": "markdown",
   "id": "6c0f6b90",
   "metadata": {},
   "source": [
    "# Considerations \n",
    "**More data point should be collected to enhance the scope of the further analysis**:<br/>\n",
    "**More Information about the users**:(Gender,Age and Physical health; to better understand our targeted demographic group.)<br/>"
   ]
  }
 ],
 "metadata": {
  "kernelspec": {
   "display_name": "R",
   "language": "R",
   "name": "ir"
  },
  "language_info": {
   "codemirror_mode": "r",
   "file_extension": ".r",
   "mimetype": "text/x-r-source",
   "name": "R",
   "pygments_lexer": "r",
   "version": "3.6.1"
  }
 },
 "nbformat": 4,
 "nbformat_minor": 5
}
